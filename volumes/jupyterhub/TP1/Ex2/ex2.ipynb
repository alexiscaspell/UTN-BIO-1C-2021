{
 "cells": [
  {
   "cell_type": "markdown",
   "id": "672ff805-953e-4516-9833-310a72f0431a",
   "metadata": {},
   "source": [
    "[Pagina del codigo](https://warwick.ac.uk/fac/sci/moac/people/students/peter_cock/python/genbank2fasta)"
   ]
  },
  {
   "cell_type": "markdown",
   "id": "3e603741-79a2-42c4-b2f5-d6d3bb319374",
   "metadata": {},
   "source": [
    "# PRUEBAS!!! BLAST with BioPython"
   ]
  },
  {
   "cell_type": "code",
   "execution_count": 4,
   "id": "f01973c5-5a43-40a3-b85a-42708939fd41",
   "metadata": {},
   "outputs": [
    {
     "name": "stdout",
     "output_type": "stream",
     "text": [
      "Blastn for NM_000104.4 from CYP1B1_ff-1 => CYP1B1_ff-1_NM_000104.4.xml\n",
      "Blastn for U03688.1 from CYP1B1_ff-1 => CYP1B1_ff-1_U03688.1.xml\n",
      "Blastn for XM_001167556.4 from CYP1B1_ff-1 => CYP1B1_ff-1_XM_001167556.4.xml\n",
      "Blastn for XM_011997341.1 from CYP1B1_ff-1 => CYP1B1_ff-1_XM_011997341.1.xml\n",
      "Blastn for XM_023216321.2 from CYP1B1_ff-1 => CYP1B1_ff-1_XM_023216321.2.xml\n",
      "Blastn for XM_010387081.2 from CYP1B1_ff-1 => CYP1B1_ff-1_XM_010387081.2.xml\n",
      "Blastn for XM_017860425.1 from CYP1B1_ff-1 => CYP1B1_ff-1_XM_017860425.1.xml\n",
      "Blastn for XM_011712962.2 from CYP1B1_ff-1 => CYP1B1_ff-1_XM_011712962.2.xml\n",
      "Blastn for XM_007970914.2 from CYP1B1_ff-1 => CYP1B1_ff-1_XM_007970914.2.xml\n",
      "Blastn for XM_012085130.1 from CYP1B1_ff-1 => CYP1B1_ff-1_XM_012085130.1.xml\n",
      "Blastn for XM_005576098.2 from CYP1B1_ff-1 => CYP1B1_ff-1_XM_005576098.2.xml\n",
      "Blastn for XM_015112091.2 from CYP1B1_ff-1 => CYP1B1_ff-1_XM_015112091.2.xml\n",
      "Blastn for XM_005576097.2 from CYP1B1_ff-1 => CYP1B1_ff-1_XM_005576097.2.xml\n",
      "Blastn for XM_011712961.2 from CYP1B1_ff-1 => CYP1B1_ff-1_XM_011712961.2.xml\n",
      "Blastn for XM_033175997.1 from CYP1B1_ff-1 => CYP1B1_ff-1_XM_033175997.1.xml\n",
      "Blastn for XM_038006806.1 from CYP1B1_ff-1 => CYP1B1_ff-1_XM_038006806.1.xml\n",
      "Blastn for XM_012475481.2 from CYP1B1_ff-1 => CYP1B1_ff-1_XM_012475481.2.xml\n",
      "Blastn for XM_035272772.1 from CYP1B1_ff-1 => CYP1B1_ff-1_XM_035272772.1.xml\n",
      "Blastn for AC009229.6 from CYP1B1_ff-1 => CYP1B1_ff-1_AC009229.6.xml\n",
      "Blastn for XM_003908520.5 from CYP1B1_ff-1 => CYP1B1_ff-1_XM_003908520.5.xml\n",
      "Blastn for XM_017515332.2 from CYP1B1_ff-1 => CYP1B1_ff-1_XM_017515332.2.xml\n",
      "Blastn for XM_037733805.1 from CYP1B1_ff-1 => CYP1B1_ff-1_XM_037733805.1.xml\n",
      "Blastn for XM_037733806.1 from CYP1B1_ff-1 => CYP1B1_ff-1_XM_037733806.1.xml\n",
      "Blastn for XM_032239346.1 from CYP1B1_ff-1 => CYP1B1_ff-1_XM_032239346.1.xml\n",
      "Blastn for XM_032239348.1 from CYP1B1_ff-1 => CYP1B1_ff-1_XM_032239348.1.xml\n",
      "Blastn for XM_014832937.1 from CYP1B1_ff-1 => CYP1B1_ff-1_XM_014832937.1.xml\n",
      "Blastn for XM_007102860.3 from CYP1B1_ff-1 => CYP1B1_ff-1_XM_007102860.3.xml\n",
      "Blastn for XR_003682415.1 from CYP1B1_ff-1 => CYP1B1_ff-1_XR_003682415.1.xml\n",
      "Blastn for XM_027113352.1 from CYP1B1_ff-1 => CYP1B1_ff-1_XM_027113352.1.xml\n",
      "Blastn for XM_004265043.2 from CYP1B1_ff-1 => CYP1B1_ff-1_XM_004265043.2.xml\n",
      "Blastn for MF420351.1 from CYP1B1_ff-1 => CYP1B1_ff-1_MF420351.1.xml\n",
      "Blastn for XM_030857901.1 from CYP1B1_ff-1 => CYP1B1_ff-1_XM_030857901.1.xml\n",
      "Blastn for XR_939668.3 from CYP1B1_ff-1 => CYP1B1_ff-1_XR_939668.3.xml\n",
      "Blastn for XM_017003475.2 from CYP1B1_ff-1 => CYP1B1_ff-1_XM_017003475.2.xml\n",
      "Blastn for XM_011532615.3 from CYP1B1_ff-1 => CYP1B1_ff-1_XM_011532615.3.xml\n",
      "Blastn for XM_036873921.1 from CYP1B1_ff-1 => CYP1B1_ff-1_XM_036873921.1.xml\n",
      "Blastn for XM_012653881.1 from CYP1B1_ff-1 => CYP1B1_ff-1_XM_012653881.1.xml\n",
      "Blastn for AK297039.1 from CYP1B1_ff-1 => CYP1B1_ff-1_AK297039.1.xml\n",
      "Blastn for XM_017645311.2 from CYP1B1_ff-1 => CYP1B1_ff-1_XM_017645311.2.xml\n",
      "Blastn for XM_002914835.4 from CYP1B1_ff-1 => CYP1B1_ff-1_XM_002914835.4.xml\n",
      "Blastn for XM_036931610.1 from CYP1B1_ff-1 => CYP1B1_ff-1_XM_036931610.1.xml\n",
      "Blastn for XM_025454147.2 from CYP1B1_ff-1 => CYP1B1_ff-1_XM_025454147.2.xml\n",
      "Blastn for XM_008585126.1 from CYP1B1_ff-1 => CYP1B1_ff-1_XM_008585126.1.xml\n",
      "Blastn for XM_032410321.1 from CYP1B1_ff-1 => CYP1B1_ff-1_XM_032410321.1.xml\n",
      "Blastn for XM_036070380.1 from CYP1B1_ff-1 => CYP1B1_ff-1_XM_036070380.1.xml\n",
      "Blastn for XM_006739925.2 from CYP1B1_ff-1 => CYP1B1_ff-1_XM_006739925.2.xml\n",
      "Blastn for XM_035000940.1 from CYP1B1_ff-1 => CYP1B1_ff-1_XM_035000940.1.xml\n",
      "Hecho\n"
     ]
    }
   ],
   "source": [
    "from Bio import SeqIO\n",
    "from Bio.Blast import NCBIWWW\n",
    "import os\n",
    "\n",
    "in_folder=\"in/\"\n",
    "out_folder=\"out/\"\n",
    "\n",
    "for f in os.listdir(in_folder):\n",
    "    \n",
    "    if not f.endswith(\".fasta\"):\n",
    "        continue\n",
    "        \n",
    "    input_handle  = open(in_folder + f, \"r\")\n",
    "    \n",
    "    #borrar resultados anteriores\n",
    "    \n",
    "    for seq_record in SeqIO.parse(input_handle, \"fasta\") :\n",
    "        print('Blastn for %s from %s => %s' % (seq_record.name, f.split('/')[-1:][0].split(\".\")[0], f.split('/')[-1:][0].split(\".\")[0]+\"_\"+seq_record.name+\".xml\" ))\n",
    "        #result_handle = NCBIWWW.qblast(\"blastp\", \"nr\", seq_record.seq, entrez_query=\"txid3702[ORGN]\")\n",
    "        #blast_result = open(out_folder+f.split('/')[-1:][0].split(\".\")[0]+\"_\"+seq_record.name+\".xml\", \"w\")\n",
    "        #blast_result.write(result_handle.read())\n",
    "        #blast_result.close()\n",
    "        #result_handle.close()\n",
    "        \n",
    "print('Hecho')"
   ]
  },
  {
   "cell_type": "code",
   "execution_count": null,
   "id": "23a86e0c-45a5-48f2-b892-ee420da2733d",
   "metadata": {},
   "outputs": [],
   "source": []
  }
 ],
 "metadata": {
  "kernelspec": {
   "display_name": "Python 3",
   "language": "python",
   "name": "python3"
  },
  "language_info": {
   "codemirror_mode": {
    "name": "ipython",
    "version": 3
   },
   "file_extension": ".py",
   "mimetype": "text/x-python",
   "name": "python",
   "nbconvert_exporter": "python",
   "pygments_lexer": "ipython3",
   "version": "3.8.5"
  }
 },
 "nbformat": 4,
 "nbformat_minor": 5
}
