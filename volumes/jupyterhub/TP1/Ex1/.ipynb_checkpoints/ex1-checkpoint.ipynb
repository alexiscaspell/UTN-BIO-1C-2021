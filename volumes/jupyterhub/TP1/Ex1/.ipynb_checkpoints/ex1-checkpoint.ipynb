{
 "cells": [
  {
   "cell_type": "markdown",
   "id": "672ff805-953e-4516-9833-310a72f0431a",
   "metadata": {},
   "source": [
    "[Pagina del codigo](https://warwick.ac.uk/fac/sci/moac/people/students/peter_cock/python/genbank2fasta)"
   ]
  },
  {
   "cell_type": "markdown",
   "id": "c36d03e8-e9b1-4043-b4b5-0529651a12bc",
   "metadata": {},
   "source": [
    "# GenBank to FASTA Nucleotides (*.gbk to *.fna)"
   ]
  },
  {
   "cell_type": "code",
   "execution_count": 11,
   "id": "dc6ab065-7de6-4616-b472-e4c9a77a5251",
   "metadata": {},
   "outputs": [
    {
     "name": "stdout",
     "output_type": "stream",
     "text": [
      "Hecho\n"
     ]
    }
   ],
   "source": [
    "from Bio import SeqIO\n",
    "import os\n",
    "\n",
    "\n",
    "in_folder=\"in/\"\n",
    "out_folder=\"out/\"\n",
    "\n",
    "for f in os.listdir(in_folder):\n",
    "    \n",
    "    if not f.endswith(\".gb\") and not f.endswith(\".gbk\"):\n",
    "        continue\n",
    "        \n",
    "    input_handle  = open(in_folder + f, \"r\")\n",
    "    output_handle = open(out_folder+f.split('/')[-1:][0].split(\".\")[0]+\".fasta\", \"w\")\n",
    "\n",
    "    for seq_record in SeqIO.parse(input_handle, \"genbank\") :\n",
    "        output_handle.write(\">%s %s\\n%s\\n\" % (\n",
    "               seq_record.id,\n",
    "               seq_record.description,\n",
    "               seq_record.seq))\n",
    "                \n",
    "    input_handle.close()\n",
    "    output_handle.close()\n",
    "\n",
    "print('Hecho')"
   ]
  },
  {
   "cell_type": "markdown",
   "id": "cafc29dc-9590-49bb-980a-c92e1e557ea0",
   "metadata": {},
   "source": [
    "# Gene by Gene : GenBank to FASTA Amino Acids (*.gbk to *.faa)"
   ]
  },
  {
   "cell_type": "code",
   "execution_count": 10,
   "id": "82b57249-733b-4143-98f8-ce0ead8beed6",
   "metadata": {},
   "outputs": [
    {
     "name": "stdout",
     "output_type": "stream",
     "text": [
      "Hecho\n"
     ]
    }
   ],
   "source": [
    "from Bio import SeqIO\n",
    "import os\n",
    "\n",
    "\n",
    "in_folder=\"in/\"\n",
    "out_folder=\"out/\"\n",
    "\n",
    "for f in os.listdir(in_folder):\n",
    "    \n",
    "    if not f.endswith(\".gb\") and not f.endswith(\".gbk\"):\n",
    "        continue\n",
    "        \n",
    "    input_handle  = open(in_folder + f, \"r\")\n",
    "    output_handle = open(out_folder+f.split('/')[-1:][0].split(\".\")[0]+\".fasta\", \"w\")\n",
    "\n",
    "    for seq_record in SeqIO.parse(input_handle, \"genbank\") :\n",
    "        for seq_feature in seq_record.features :\n",
    "            if seq_feature.type==\"CDS\" :\n",
    "                assert len(seq_feature.qualifiers['translation'])==1\n",
    "                output_handle.write(\">%s from %s\\n%s\\n\" % (\n",
    "                       seq_record.id,\n",
    "                       #seq_feature.qualifiers['locus_tag'][0],\n",
    "                       seq_record.name,\n",
    "                       seq_feature.qualifiers['translation'][0]))\n",
    "                \n",
    "    input_handle.close()\n",
    "    output_handle.close()\n",
    "    \n",
    "print('Hecho')"
   ]
  }
 ],
 "metadata": {
  "kernelspec": {
   "display_name": "Python 3",
   "language": "python",
   "name": "python3"
  },
  "language_info": {
   "codemirror_mode": {
    "name": "ipython",
    "version": 3
   },
   "file_extension": ".py",
   "mimetype": "text/x-python",
   "name": "python",
   "nbconvert_exporter": "python",
   "pygments_lexer": "ipython3",
   "version": "3.8.5"
  }
 },
 "nbformat": 4,
 "nbformat_minor": 5
}
