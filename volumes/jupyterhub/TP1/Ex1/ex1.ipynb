{
 "cells": [
  {
   "cell_type": "markdown",
   "id": "672ff805-953e-4516-9833-310a72f0431a",
   "metadata": {},
   "source": [
    "[Pagina del codigo](https://warwick.ac.uk/fac/sci/moac/people/students/peter_cock/python/genbank2fasta)"
   ]
  },
  {
   "cell_type": "markdown",
   "id": "c36d03e8-e9b1-4043-b4b5-0529651a12bc",
   "metadata": {},
   "source": [
    "# GenBank to FASTA Nucleotides (*.gbk to *.fna)"
   ]
  },
  {
   "cell_type": "code",
   "execution_count": null,
   "id": "dc6ab065-7de6-4616-b472-e4c9a77a5251",
   "metadata": {},
   "outputs": [],
   "source": [
    "from Bio import SeqIO\n",
    "import os\n",
    "\n",
    "\n",
    "in_folder=\"in/\"\n",
    "out_folder=\"out/\"\n",
    "\n",
    "for f in os.listdir(in_folder):\n",
    "    \n",
    "    if not f.endswith(\".gb\") and not f.endswith(\".gbk\"):\n",
    "        continue\n",
    "        \n",
    "    input_handle  = open(in_folder + f, \"r\")\n",
    "    output_handle = open(out_folder+f.split('/')[-1:][0].split(\".\")[0]+\".fasta\", \"w\")\n",
    "\n",
    "    for seq_record in SeqIO.parse(input_handle, \"genbank\") :\n",
    "        output_handle.write(\">%s %s\\n%s\\n\" % (\n",
    "               seq_record.id,\n",
    "               seq_record.description,\n",
    "               seq_record.seq))\n",
    "                \n",
    "    input_handle.close()\n",
    "    output_handle.close()\n",
    "\n",
    "print('Hecho')"
   ]
  },
  {
   "cell_type": "markdown",
   "id": "cafc29dc-9590-49bb-980a-c92e1e557ea0",
   "metadata": {},
   "source": [
    "# Gene by Gene : GenBank to FASTA Amino Acids (*.gbk to *.faa)"
   ]
  },
  {
   "cell_type": "code",
   "execution_count": null,
   "id": "82b57249-733b-4143-98f8-ce0ead8beed6",
   "metadata": {},
   "outputs": [],
   "source": [
    "from Bio import SeqIO\n",
    "import os\n",
    "\n",
    "\n",
    "in_folder=\"in/\"\n",
    "out_folder=\"out/\"\n",
    "\n",
    "for f in os.listdir(in_folder):\n",
    "    \n",
    "    if not f.endswith(\".gb\") and not f.endswith(\".gbk\"):\n",
    "        continue\n",
    "        \n",
    "    input_handle  = open(in_folder + f, \"r\")\n",
    "    output_handle = open(out_folder+f.split('/')[-1:][0].split(\".\")[0]+\".fasta\", \"w\")\n",
    "\n",
    "    for seq_record in SeqIO.parse(input_handle, \"genbank\") :\n",
    "        for seq_feature in seq_record.features :\n",
    "            if seq_feature.type==\"CDS\" :\n",
    "                assert len(seq_feature.qualifiers['translation'])==1\n",
    "                output_handle.write(\">%s from %s\\n%s\\n\" % (\n",
    "                       seq_record.id,\n",
    "                       #seq_feature.qualifiers['locus_tag'][0],\n",
    "                       seq_record.name,\n",
    "                       seq_feature.qualifiers['translation'][0]))\n",
    "                \n",
    "    input_handle.close()\n",
    "    output_handle.close()\n",
    "    \n",
    "print('Hecho')"
   ]
  },
  {
   "cell_type": "markdown",
   "id": "3e603741-79a2-42c4-b2f5-d6d3bb319374",
   "metadata": {},
   "source": [
    "# Gene by Gene : GenBank to FASTA Amino Acids (*.gbk to *.faa) V2"
   ]
  },
  {
   "cell_type": "code",
   "execution_count": null,
   "id": "f7e3816c-2c5e-4c51-87d6-5f2ae5bf628c",
   "metadata": {},
   "outputs": [],
   "source": [
    "from Bio import SeqIO\n",
    "import os\n",
    "\n",
    "in_folder=\"in/\"\n",
    "out_folder=\"out/\"\n",
    "\n",
    "for f in os.listdir(in_folder):\n",
    "    \n",
    "    if not f.endswith(\".gb\") and not f.endswith(\".gbk\"):\n",
    "        continue\n",
    "        \n",
    "    input_handle  = open(in_folder + f, \"r\")\n",
    "    \n",
    "    for strand in [('ff'), ('rw')]:\n",
    "            for frame in range(3):\n",
    "                if os.path.exists(out_folder+f.split('/')[-1:][0].split(\".\")[0]+\"_\"+strand+\"-\"+str(frame)+\".fasta\"):\n",
    "                    os.remove(out_folder+f.split('/')[-1:][0].split(\".\")[0]+\"_\"+strand+\"-\"+str(frame)+\".fasta\")\n",
    "\n",
    "    for seq_record in SeqIO.parse(input_handle, \"genbank\") :\n",
    "        seq = seq_record.seq\n",
    "        table = 1\n",
    "        min_pro_len = 400\n",
    "        for strand, nuc in [('ff', seq), ('rw', seq.reverse_complement())]:\n",
    "            for frame in range(3):\n",
    "                pro_ok = False\n",
    "                for pro in nuc[frame:].translate(table).split(\"*\"):\n",
    "                    if len(pro) >= min_pro_len:\n",
    "                        pro_ok = True\n",
    "                        print(\"%s => %s...%s - length %i, strand %s, frame %i => %s\" % (seq_record.name, pro[:30], pro[-3:], len(pro), strand, frame,f.split('/')[-1:][0].split(\".\")[0]+\"_\"+strand+\"-\"+str(frame)+\".fasta\"))\n",
    "                if pro_ok == True:\n",
    "                    output_handle = open(out_folder+f.split('/')[-1:][0].split(\".\")[0]+\"_\"+strand+\"-\"+str(frame)+\".fasta\", \"a\")\n",
    "                    output_handle.write(\">%s from %s\\n%s\\n\\n\" % (\n",
    "                           seq_record.id,\n",
    "                           seq_record.name,\n",
    "                           nuc[frame:].translate(table)))\n",
    "                    output_handle.close()\n",
    "                    \n",
    "    input_handle.close()\n",
    "    \n",
    "    \n",
    "print('Hecho')"
   ]
  },
  {
   "cell_type": "code",
   "execution_count": null,
   "id": "f01973c5-5a43-40a3-b85a-42708939fd41",
   "metadata": {},
   "outputs": [],
   "source": []
  }
 ],
 "metadata": {
  "kernelspec": {
   "display_name": "Python 3",
   "language": "python",
   "name": "python3"
  },
  "language_info": {
   "codemirror_mode": {
    "name": "ipython",
    "version": 3
   },
   "file_extension": ".py",
   "mimetype": "text/x-python",
   "name": "python",
   "nbconvert_exporter": "python",
   "pygments_lexer": "ipython3",
   "version": "3.8.5"
  }
 },
 "nbformat": 4,
 "nbformat_minor": 5
}
