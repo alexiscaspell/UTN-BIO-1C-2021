{
 "cells": [
  {
   "cell_type": "code",
   "execution_count": null,
   "id": "82b57249-733b-4143-98f8-ce0ead8beed6",
   "metadata": {},
   "outputs": [],
   "source": [
    "from Bio import SeqIO\n",
    "import os\n",
    "\n",
    "\n",
    "in_folder=\"in/\"\n",
    "out_folder=\"out/\"\n",
    "\n",
    "for f in os.listdir(in_folder):\n",
    "    \n",
    "    if not f.endswith(\".gb\") and not f.endswith(\".gbk\"):\n",
    "        continue\n",
    "        \n",
    "    input_handle  = open(in_folder + f, \"r\")\n",
    "    output_handle = open(out_folder+f.split('/')[-1:][0].split(\".\")[0]+\".fasta\", \"w\")\n",
    "\n",
    "    for seq_record in SeqIO.parse(input_handle, \"genbank\") :\n",
    "        print(\"Dealing with GenBank record %s\" % seq_record.id)\n",
    "        for seq_feature in seq_record.features :\n",
    "            if seq_feature.type==\"CDS\" :\n",
    "                assert len(seq_feature.qualifiers['translation'])==1\n",
    "                output_handle.write(\">%s from %s\\n%s\\n\" % (\n",
    "                       seq_record.id,\n",
    "                       #seq_feature.qualifiers['locus_tag'][0],\n",
    "                       seq_record.name,\n",
    "                       seq_feature.qualifiers['translation'][0]))\n",
    "                \n",
    "    input_handle.close()\n",
    "    output_handle.close()\n"
   ]
  },
  {
   "cell_type": "code",
   "execution_count": null,
   "id": "72268daf-e755-49ad-9a6a-4ec545eb8a4f",
   "metadata": {},
   "outputs": [],
   "source": []
  }
 ],
 "metadata": {
  "kernelspec": {
   "display_name": "Python 3",
   "language": "python",
   "name": "python3"
  },
  "language_info": {
   "codemirror_mode": {
    "name": "ipython",
    "version": 3
   },
   "file_extension": ".py",
   "mimetype": "text/x-python",
   "name": "python",
   "nbconvert_exporter": "python",
   "pygments_lexer": "ipython3",
   "version": "3.8.5"
  }
 },
 "nbformat": 4,
 "nbformat_minor": 5
}
