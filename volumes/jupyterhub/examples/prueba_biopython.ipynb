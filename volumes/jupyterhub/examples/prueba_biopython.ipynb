{
 "cells": [
  {
   "cell_type": "code",
   "execution_count": 5,
   "id": "377bbfec-6a42-4d53-8b09-7a69e6716b07",
   "metadata": {},
   "outputs": [],
   "source": [
    "from Bio.Blast import NCBIWWW\n",
    "from Bio import SeqIO "
   ]
  },
  {
   "cell_type": "code",
   "execution_count": 3,
   "id": "3f8ca52b-4936-49d4-bfc1-b6272fd064f7",
   "metadata": {},
   "outputs": [
    {
     "data": {
      "text/plain": [
       "'Example of a single sequence in FASTA/Pearson format: \\n>sequence A ggtaagtcctctagtacaaacacccccaatattgtgatataattaaaattatattcatat\\ntctgttgccagaaaaaacacttttaggctatattagagccatcttctttgaagcgttgtc \\n\\n>sequence B ggtaagtcctctagtacaaacacccccaatattgtgatataattaaaattatattca\\ntattctgttgccagaaaaaacacttttaggctatattagagccatcttctttgaagcgttgtc'"
      ]
     },
     "execution_count": 3,
     "metadata": {},
     "output_type": "execute_result"
    }
   ],
   "source": [
    "sequence_data = open(\"blast_example.fasta\").read()\n",
    "sequence_data"
   ]
  },
  {
   "cell_type": "code",
   "execution_count": 4,
   "id": "2e0dccf8-56f4-43b6-b361-7037dec6f26d",
   "metadata": {},
   "outputs": [
    {
     "data": {
      "text/plain": [
       "<_io.StringIO at 0x7fa7887e0a60>"
      ]
     },
     "execution_count": 4,
     "metadata": {},
     "output_type": "execute_result"
    }
   ],
   "source": [
    "result_handle = NCBIWWW.qblast(\"blastn\", \"nt\", sequence_data) \n",
    "result_handle"
   ]
  },
  {
   "cell_type": "code",
   "execution_count": 6,
   "id": "c193b51d-e7c6-4f82-9588-e29d73b4c24c",
   "metadata": {},
   "outputs": [
    {
     "data": {
      "text/plain": [
       "'sequence'"
      ]
     },
     "execution_count": 6,
     "metadata": {},
     "output_type": "execute_result"
    }
   ],
   "source": [
    "seq_record = next(SeqIO.parse(open('blast_example.fasta'),'fasta'))\n",
    "seq_record.id"
   ]
  },
  {
   "cell_type": "code",
   "execution_count": 7,
   "id": "72bc8ec6-5475-4883-9845-ee6cf76f6710",
   "metadata": {},
   "outputs": [
    {
     "data": {
      "text/plain": [
       "Seq('tctgttgccagaaaaaacacttttaggctatattagagccatcttctttgaagcgttgtc')"
      ]
     },
     "execution_count": 7,
     "metadata": {},
     "output_type": "execute_result"
    }
   ],
   "source": [
    "seq_record.seq"
   ]
  },
  {
   "cell_type": "code",
   "execution_count": null,
   "id": "26d41400-6b9b-4f2a-b717-065c3b218257",
   "metadata": {},
   "outputs": [],
   "source": []
  }
 ],
 "metadata": {
  "kernelspec": {
   "display_name": "Python 3",
   "language": "python",
   "name": "python3"
  },
  "language_info": {
   "codemirror_mode": {
    "name": "ipython",
    "version": 3
   },
   "file_extension": ".py",
   "mimetype": "text/x-python",
   "name": "python",
   "nbconvert_exporter": "python",
   "pygments_lexer": "ipython3",
   "version": "3.8.2"
  }
 },
 "nbformat": 4,
 "nbformat_minor": 5
}
