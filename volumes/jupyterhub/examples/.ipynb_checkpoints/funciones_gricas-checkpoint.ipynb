{
 "cells": [
  {
   "cell_type": "markdown",
   "id": "5d7098c2-ed06-4b22-8455-2390114fb0e5",
   "metadata": {},
   "source": [
    "# Record by Record : GenBank to FASTA Nucleotides"
   ]
  },
  {
   "cell_type": "code",
   "execution_count": null,
   "id": "e598552f-d173-4990-a728-0015a0202887",
   "metadata": {},
   "outputs": [],
   "source": [
    "from Bio import SeqIO\n",
    "\n",
    "gbk_filename = \"NC_005213.gbk\"\n",
    "faa_filename = \"NC_005213_converted.fna\"\n",
    "\n",
    "input_handle  = open(gbk_filename, \"r\")\n",
    "output_handle = open(faa_filename, \"w\")\n",
    "\n",
    "#Short version:\n",
    "#SeqIO.write(SeqIO.parse(input_handle, \"genbank\"), output_handle, \"fasta\")\n",
    "\n",
    "#Long version, allows full control of fasta output\n",
    "for seq_record in SeqIO.parse(input_handle, \"genbank\") :\n",
    "    print \"Dealing with GenBank record %s\" % seq_record.id\n",
    "    output_handle.write(\">%s %s\\n%s\\n\" % (\n",
    "           seq_record.id,\n",
    "           seq_record.description,\n",
    "           seq_record.seq.tostring()))\n",
    "\n",
    "output_handle.close()\n",
    "input_handle.close()\n",
    "print \"Done\""
   ]
  },
  {
   "cell_type": "markdown",
   "id": "ffdba52b-9983-4f0d-92c8-577d2bedd77f",
   "metadata": {},
   "source": [
    "# Gene by Gene : GenBank to FASTA Amino Acids"
   ]
  },
  {
   "cell_type": "code",
   "execution_count": null,
   "id": "6cd6e426-4de3-4b95-a5ec-a93a86ad421f",
   "metadata": {},
   "outputs": [],
   "source": [
    "from Bio import SeqIO\n",
    "gbk_filename = \"NC_005213.gbk\"\n",
    "faa_filename = \"NC_005213_converted.faa\"\n",
    "input_handle  = open(gbk_filename, \"r\")\n",
    "output_handle = open(faa_filename, \"w\")\n",
    "\n",
    "for seq_record in SeqIO.parse(input_handle, \"genbank\") :\n",
    "    print \"Dealing with GenBank record %s\" % seq_record.id\n",
    "    for seq_feature in seq_record.features :\n",
    "        if seq_feature.type==\"CDS\" :\n",
    "            assert len(seq_feature.qualifiers['translation'])==1\n",
    "            output_handle.write(\">%s from %s\\n%s\\n\" % (\n",
    "                   seq_feature.qualifiers['locus_tag'][0],\n",
    "                   seq_record.name,\n",
    "                   seq_feature.qualifiers['translation'][0]))\n",
    "\n",
    "output_handle.close()\n",
    "input_handle.close()"
   ]
  }
 ],
 "metadata": {
  "kernelspec": {
   "display_name": "Python 3",
   "language": "python",
   "name": "python3"
  },
  "language_info": {
   "codemirror_mode": {
    "name": "ipython",
    "version": 3
   },
   "file_extension": ".py",
   "mimetype": "text/x-python",
   "name": "python",
   "nbconvert_exporter": "python",
   "pygments_lexer": "ipython3",
   "version": "3.8.2"
  }
 },
 "nbformat": 4,
 "nbformat_minor": 5
}
