{
 "cells": [
  {
   "cell_type": "markdown",
   "id": "672ff805-953e-4516-9833-310a72f0431a",
   "metadata": {},
   "source": [
    "[Pagina del codigo](https://github.com/prete/bioinformatica-utn-2017/blob/master/bioutn/blast.py)"
   ]
  },
  {
   "cell_type": "markdown",
   "id": "8f2aa23a-cb8e-426e-9091-e91e57cb4c96",
   "metadata": {},
   "source": [
    "# Ex4 PARSE BLAST: BLAST to TXT"
   ]
  },
  {
   "cell_type": "markdown",
   "id": "e90916f6-a1f2-4c1d-a334-3dac6a15a6f6",
   "metadata": {},
   "source": [
    "## *BUSCAR COMO ESPERAR A QUE CARGUE EL JS DEL LINK PORQUE SE DESCARGA LA PAGINA DE CARGA ANTES DE QUE CARQUE EL CONTENIDO DEL FASTA*"
   ]
  },
  {
   "cell_type": "code",
   "execution_count": 18,
   "id": "eb92de1a-fe3d-4aba-9a16-befec88d80fe",
   "metadata": {},
   "outputs": [
    {
     "name": "stdout",
     "output_type": "stream",
     "text": [
      "NP_000095\n",
      "https://www.ncbi.nlm.nih.gov/nuccore/NP_000095?report=gilist&log$=seqview&format=text\n",
      "189491763\n",
      "descargando fasta -> https://www.ncbi.nlm.nih.gov/sviewer/viewer.fcgi?id=189491763&db=nuccore&report=fasta&retmode=text&withmarkup=on&tool=portal&log$=seqview&maxdownloadsize=1000000\n",
      "\n",
      "Failed to retrieve sequence: 189491763\n",
      "\n",
      "\n",
      "Hecho\n"
     ]
    }
   ],
   "source": [
    "import sys\n",
    "import os\n",
    "import requests\n",
    "from Bio import SearchIO\n",
    "from Bio.Blast import NCBIWWW\n",
    "from Bio.Blast import NCBIXML\n",
    "from Bio.Blast.Applications import NcbiblastpCommandline\n",
    "import re\n",
    "\n",
    "# para probar desde script\n",
    "# to_filter = sys.argv[0]\n",
    "\n",
    "# para probar desde Jupyter\n",
    "to_filter = 'homo'\n",
    "\n",
    "result_filtered_hits = []    \n",
    "    \n",
    "in_folder=\"in/\"\n",
    "out_folder=\"out/\"\n",
    "\n",
    "def download_fasta_text(hit_accession: str):\n",
    "    \n",
    "    print(hit_accession)\n",
    "    \n",
    "    url_session = f'https://www.ncbi.nlm.nih.gov/nuccore/{hit_accession}?report=gilist&log$=seqview&format=text'\n",
    "    print(f'https://www.ncbi.nlm.nih.gov/nuccore/{hit_accession}?report=gilist&log$=seqview&format=text')\n",
    "    \n",
    "    id_fasta = re.findall(r'\\d+', requests.get(url_session).text)[-1]\n",
    "    print(id_fasta)\n",
    "    \n",
    "    url_fasta = f'https://www.ncbi.nlm.nih.gov/sviewer/viewer.fcgi?id={id_fasta}&db=nuccore&report=fasta&retmode=text&withmarkup=on&tool=portal&log$=seqview&maxdownloadsize=1000000'\n",
    "    print(f'descargando fasta -> {url_fasta}\\n')\n",
    "    \n",
    "    print(requests.get(url_fasta).text)\n",
    "    return requests.get(url_fasta).text\n",
    "    \n",
    "\n",
    "for f in os.listdir(in_folder):\n",
    "    \n",
    "    if not f.endswith(\".xml\"):\n",
    "        continue\n",
    "        \n",
    "    input_handle  = open(in_folder + f, \"r\")\n",
    "    \n",
    "    blast_record = SearchIO.read(input_handle, 'blast-xml')\n",
    "    for hit, hsp in zip(blast_record.hits, blast_record.hsps):\n",
    "        \n",
    "        if to_filter.lower() in hit.description.lower():\n",
    "            result_filtered_hits.append((hit, hsp))\n",
    "            \n",
    "    if not result_filtered_hits:\n",
    "        print(f'No se encontro {to_filter} en el archivo {f}')\n",
    "    \n",
    "    file_name = f.split('/')[-1:][0].split(\".\")[0]\n",
    "    blast_result = open(out_folder + file_name +\".txt\", \"w\")\n",
    "    \n",
    "    for hit, hsp in result_filtered_hits:\n",
    "        blast_result.write(str(hit) + '\\n\\n' + str(hsp) + '\\n\\n ============================================== \\n\\n')\n",
    "        \n",
    "        fasta_downloaded = open(out_folder + file_name + f'_{hit.accession}.fasta', \"w\")\n",
    "        fasta_downloaded.write(download_fasta_text(hit.accession))\n",
    "        fasta_downloaded.close()\n",
    "    \n",
    "    blast_result.close()\n",
    "        \n",
    "        \n",
    "print('Hecho')"
   ]
  },
  {
   "cell_type": "code",
   "execution_count": null,
   "id": "b029a4e3-9091-481a-bbf9-572dc5d4b237",
   "metadata": {},
   "outputs": [],
   "source": []
  }
 ],
 "metadata": {
  "kernelspec": {
   "display_name": "Python 3",
   "language": "python",
   "name": "python3"
  },
  "language_info": {
   "codemirror_mode": {
    "name": "ipython",
    "version": 3
   },
   "file_extension": ".py",
   "mimetype": "text/x-python",
   "name": "python",
   "nbconvert_exporter": "python",
   "pygments_lexer": "ipython3",
   "version": "3.8.5"
  }
 },
 "nbformat": 4,
 "nbformat_minor": 5
}
