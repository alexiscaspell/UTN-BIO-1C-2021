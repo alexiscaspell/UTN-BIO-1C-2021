{
 "cells": [
  {
   "cell_type": "markdown",
   "id": "672ff805-953e-4516-9833-310a72f0431a",
   "metadata": {},
   "source": [
    "[Pagina del codigo](https://warwick.ac.uk/fac/sci/moac/people/students/peter_cock/python/genbank2fasta)"
   ]
  },
  {
   "cell_type": "markdown",
   "id": "3e603741-79a2-42c4-b2f5-d6d3bb319374",
   "metadata": {},
   "source": [
    "# Ex4 PARSE BLAST: BLAST to BLAST (*.xml to *.xml)"
   ]
  },
  {
   "cell_type": "code",
   "execution_count": 4,
   "id": "f01973c5-5a43-40a3-b85a-42708939fd41",
   "metadata": {},
   "outputs": [
    {
     "name": "stdout",
     "output_type": "stream",
     "text": [
      "Blastp for NM_000104.4 from CYP1B1_ff-1 => CYP1B1_ff-1_NM_000104.4.xml\n",
      "Hecho\n"
     ]
    }
   ],
   "source": [
    "from Bio import SeqIO\n",
    "from Bio.Blast import NCBIWWW\n",
    "import os\n",
    "\n",
    "in_folder=\"in/\"\n",
    "out_folder=\"out/\"\n",
    "\n",
    "for f in os.listdir(in_folder):\n",
    "    \n",
    "    if not f.endswith(\".fasta\"):\n",
    "        continue\n",
    "        \n",
    "    input_handle  = open(in_folder + f, \"r\")\n",
    "    \n",
    "    for seq_record in SeqIO.parse(input_handle, \"fasta\") :\n",
    "        print('Blastp for %s from %s => %s' % (seq_record.name, f.split('/')[-1:][0].split(\".\")[0], f.split('/')[-1:][0].split(\".\")[0]+\"_\"+seq_record.name+\".xml\" ))\n",
    "        result_handle = NCBIWWW.qblast(\"blastp\", \"refseq_protein\", seq_record.seq)\n",
    "        blast_result = open(out_folder+f.split('/')[-1:][0].split(\".\")[0]+\"_\"+seq_record.name+\".xml\", \"w\")\n",
    "        blast_result.write(result_handle.read())\n",
    "        blast_result.close()\n",
    "        result_handle.close()\n",
    "        \n",
    "print('Hecho')"
   ]
  },
  {
   "cell_type": "code",
   "execution_count": 40,
   "id": "eb92de1a-fe3d-4aba-9a16-befec88d80fe",
   "metadata": {},
   "outputs": [
    {
     "name": "stdout",
     "output_type": "stream",
     "text": [
      "Hecho\n"
     ]
    }
   ],
   "source": [
    "import sys\n",
    "import os\n",
    "from Bio import SearchIO\n",
    "from Bio.Blast import NCBIWWW\n",
    "from Bio.Blast import NCBIXML\n",
    "from Bio.Blast.Applications import NcbiblastpCommandline\n",
    "\n",
    "\n",
    "to_filter = 'Pan'\n",
    "result_filtered_hits = []    \n",
    "    \n",
    "in_folder=\"in/\"\n",
    "out_folder=\"out/\"\n",
    "\n",
    "for f in os.listdir(in_folder):\n",
    "    \n",
    "    if not f.endswith(\".xml\"):\n",
    "        continue\n",
    "        \n",
    "    input_handle  = open(in_folder + f, \"r\")\n",
    "    \n",
    "    blast_record = SearchIO.read(input_handle, 'blast-xml')\n",
    "    for hit, hsp in zip(blast_record.hits, blast_record.hsps):\n",
    "            \n",
    "            if to_filter.lower() in hit.description.lower():\n",
    "                result_filtered_hits.append((hit, hsp))\n",
    "            \n",
    "    if not result_filtered_hits:\n",
    "        print(f'No se encontro {to_filter} en el archivo {f}')\n",
    "    \n",
    "    blast_result = open(out_folder+f.split('/')[-1:][0].split(\".\")[0]+\".xml\", \"w\")\n",
    "    for hit, hsp in result_filtered_hits:\n",
    "        blast_result.write(str(hit) + '\\n\\n' + str(hsp) + '\\n\\n ============================================== \\n\\n')\n",
    "    \n",
    "    blast_result.close()\n",
    "        \n",
    "        \n",
    "print('Hecho')"
   ]
  },
  {
   "cell_type": "code",
   "execution_count": null,
   "id": "b029a4e3-9091-481a-bbf9-572dc5d4b237",
   "metadata": {},
   "outputs": [],
   "source": []
  }
 ],
 "metadata": {
  "kernelspec": {
   "display_name": "Python 3",
   "language": "python",
   "name": "python3"
  },
  "language_info": {
   "codemirror_mode": {
    "name": "ipython",
    "version": 3
   },
   "file_extension": ".py",
   "mimetype": "text/x-python",
   "name": "python",
   "nbconvert_exporter": "python",
   "pygments_lexer": "ipython3",
   "version": "3.8.5"
  }
 },
 "nbformat": 4,
 "nbformat_minor": 5
}
